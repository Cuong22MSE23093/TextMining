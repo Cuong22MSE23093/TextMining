{
  "nbformat": 4,
  "nbformat_minor": 0,
  "metadata": {
    "colab": {
      "provenance": [],
      "authorship_tag": "ABX9TyPvcReaCJTj5ZdOHMlJ2lSI",
      "include_colab_link": true
    },
    "kernelspec": {
      "name": "python3",
      "display_name": "Python 3"
    },
    "language_info": {
      "name": "python"
    }
  },
  "cells": [
    {
      "cell_type": "markdown",
      "metadata": {
        "id": "view-in-github",
        "colab_type": "text"
      },
      "source": [
        "<a href=\"https://colab.research.google.com/github/Cuong22MSE23093/TextMining/blob/main/asignment%201/Assignment01.ipynb\" target=\"_parent\"><img src=\"https://colab.research.google.com/assets/colab-badge.svg\" alt=\"Open In Colab\"/></a>"
      ]
    },
    {
      "cell_type": "markdown",
      "source": [
        "Write code that removes whitespace at the beginning and end of a string, and normalizes whitespace between words to be a single-space character.\n",
        "\n",
        "a. Do this task using split() and join().\n",
        "\n",
        "b. Do this task using regular expression substitutions.\n",
        "\n"
      ],
      "metadata": {
        "id": "LsfjVVOYo6Nd"
      }
    },
    {
      "cell_type": "markdown",
      "source": [
        "# a. Do this task using split() and join()."
      ],
      "metadata": {
        "id": "mETYa-38pTbf"
      }
    },
    {
      "cell_type": "code",
      "execution_count": 1,
      "metadata": {
        "colab": {
          "base_uri": "https://localhost:8080/"
        },
        "id": "goIS3XOxoyEu",
        "outputId": "f5128331-6fb3-4714-f71c-a0366ea16d5d"
      },
      "outputs": [
        {
          "output_type": "stream",
          "name": "stdout",
          "text": [
            "Input:     This    is   a  sample   text.   \n",
            "Result:  This is a sample text.\n"
          ]
        }
      ],
      "source": [
        "def normalize_whitespace_split_join(input_string):\n",
        "    # Remove leading and trailing whitespaces\n",
        "    trimmed_string = input_string.strip()\n",
        "\n",
        "    # Normalize whitespace between words using split() and join()\n",
        "    normalized_string = ' '.join(trimmed_string.split())\n",
        "\n",
        "    return normalized_string\n",
        "\n",
        "\n",
        "# Example usage:\n",
        "input_text = \"   This    is   a  sample   text.   \"\n",
        "print('Input: ', input_text)\n",
        "result = normalize_whitespace_split_join(input_text)\n",
        "print('Result: ', result)"
      ]
    },
    {
      "cell_type": "markdown",
      "source": [
        "# b. Do this task using regular expression substitutions."
      ],
      "metadata": {
        "id": "-k1e5QF6pv8v"
      }
    },
    {
      "cell_type": "code",
      "source": [
        "import re\n",
        "\n",
        "def normalize_whitespace_regex(input_string):\n",
        "    # Use regular expression to remove whitespace at the beginning and end\n",
        "    trimmed_string = re.sub(r'^\\s+|\\s+$', '', input_string)\n",
        "\n",
        "    # Normalize whitespace between words using regular expression substitutions\n",
        "    normalized_string = re.sub(r'\\s+', ' ', trimmed_string)\n",
        "\n",
        "    return normalized_string\n",
        "\n",
        "\n",
        "# Example usage:\n",
        "input_text = \"   This    is   a  sample   text.   \"\n",
        "print('Input: ', input_text)\n",
        "result = normalize_whitespace_regex(input_text)\n",
        "print('Result: ', result)"
      ],
      "metadata": {
        "colab": {
          "base_uri": "https://localhost:8080/"
        },
        "id": "_UElgQHepxrd",
        "outputId": "88eec7d0-91a8-45a2-b8cf-a8477c5b72fc"
      },
      "execution_count": 2,
      "outputs": [
        {
          "output_type": "stream",
          "name": "stdout",
          "text": [
            "Input:     This    is   a  sample   text.   \n",
            "Result:  This is a sample text.\n"
          ]
        }
      ]
    }
  ]
}