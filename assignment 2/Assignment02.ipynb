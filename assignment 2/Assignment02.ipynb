{
  "nbformat": 4,
  "nbformat_minor": 0,
  "metadata": {
    "colab": {
      "provenance": [],
      "authorship_tag": "ABX9TyOM6Pzt2QELQlYBklxEYsp2",
      "include_colab_link": true
    },
    "kernelspec": {
      "name": "python3",
      "display_name": "Python 3"
    },
    "language_info": {
      "name": "python"
    }
  },
  "cells": [
    {
      "cell_type": "markdown",
      "metadata": {
        "id": "view-in-github",
        "colab_type": "text"
      },
      "source": [
        "<a href=\"https://colab.research.google.com/github/Cuong22MSE23093/TextMining/blob/main/assignment%202/Assignment02.ipynb\" target=\"_parent\"><img src=\"https://colab.research.google.com/assets/colab-badge.svg\" alt=\"Open In Colab\"/></a>"
      ]
    },
    {
      "cell_type": "markdown",
      "source": [
        "# Install required library"
      ],
      "metadata": {
        "id": "X9tfxUB1tN0r"
      }
    },
    {
      "cell_type": "code",
      "execution_count": 1,
      "metadata": {
        "colab": {
          "base_uri": "https://localhost:8080/"
        },
        "id": "RNcgjiYotCtO",
        "outputId": "aff61556-3566-44ca-8abb-214f20c074a8"
      },
      "outputs": [
        {
          "output_type": "stream",
          "name": "stdout",
          "text": [
            "Requirement already satisfied: nltk in /usr/local/lib/python3.10/dist-packages (3.8.1)\n",
            "Requirement already satisfied: click in /usr/local/lib/python3.10/dist-packages (from nltk) (8.1.7)\n",
            "Requirement already satisfied: joblib in /usr/local/lib/python3.10/dist-packages (from nltk) (1.3.2)\n",
            "Requirement already satisfied: regex>=2021.8.3 in /usr/local/lib/python3.10/dist-packages (from nltk) (2023.6.3)\n",
            "Requirement already satisfied: tqdm in /usr/local/lib/python3.10/dist-packages (from nltk) (4.66.1)\n",
            "Requirement already satisfied: pandas in /usr/local/lib/python3.10/dist-packages (1.5.3)\n",
            "Requirement already satisfied: python-dateutil>=2.8.1 in /usr/local/lib/python3.10/dist-packages (from pandas) (2.8.2)\n",
            "Requirement already satisfied: pytz>=2020.1 in /usr/local/lib/python3.10/dist-packages (from pandas) (2023.3.post1)\n",
            "Requirement already satisfied: numpy>=1.21.0 in /usr/local/lib/python3.10/dist-packages (from pandas) (1.23.5)\n",
            "Requirement already satisfied: six>=1.5 in /usr/local/lib/python3.10/dist-packages (from python-dateutil>=2.8.1->pandas) (1.16.0)\n",
            "Requirement already satisfied: scikit-learn in /usr/local/lib/python3.10/dist-packages (1.2.2)\n",
            "Requirement already satisfied: numpy>=1.17.3 in /usr/local/lib/python3.10/dist-packages (from scikit-learn) (1.23.5)\n",
            "Requirement already satisfied: scipy>=1.3.2 in /usr/local/lib/python3.10/dist-packages (from scikit-learn) (1.11.4)\n",
            "Requirement already satisfied: joblib>=1.1.1 in /usr/local/lib/python3.10/dist-packages (from scikit-learn) (1.3.2)\n",
            "Requirement already satisfied: threadpoolctl>=2.0.0 in /usr/local/lib/python3.10/dist-packages (from scikit-learn) (3.2.0)\n"
          ]
        }
      ],
      "source": [
        "!pip install nltk\n",
        "!pip install pandas\n",
        "!pip install scikit-learn"
      ]
    },
    {
      "cell_type": "markdown",
      "source": [
        "# Import library and move_reviews dataset"
      ],
      "metadata": {
        "id": "13H0X-qXtf2k"
      }
    },
    {
      "cell_type": "code",
      "source": [
        "import nltk\n",
        "from nltk.corpus import movie_reviews\n",
        "import pandas as pd\n",
        "import sklearn as sk\n",
        "import random\n",
        "# Download movie reviews datasets\n",
        "import nltk\n",
        "nltk.download('movie_reviews')"
      ],
      "metadata": {
        "colab": {
          "base_uri": "https://localhost:8080/"
        },
        "id": "EA7gVC3UtkL6",
        "outputId": "d1a95f2d-ec51-4bdd-c00a-3f52250d2486"
      },
      "execution_count": 2,
      "outputs": [
        {
          "output_type": "stream",
          "name": "stderr",
          "text": [
            "[nltk_data] Downloading package movie_reviews to /root/nltk_data...\n",
            "[nltk_data]   Unzipping corpora/movie_reviews.zip.\n"
          ]
        },
        {
          "output_type": "execute_result",
          "data": {
            "text/plain": [
              "True"
            ]
          },
          "metadata": {},
          "execution_count": 2
        }
      ]
    },
    {
      "cell_type": "markdown",
      "source": [
        "# A list of the 30 features that the classifier finds to be most informative"
      ],
      "metadata": {
        "id": "-AVWqq20tol5"
      }
    },
    {
      "cell_type": "code",
      "source": [
        "# Find the top 1000 words in all movie reviews\n",
        "\n",
        "words = movie_reviews.words()\n",
        "all_words = nltk.FreqDist(w.lower() for w in words) # sorted most popular {words: freq}\n",
        "word_features = list(all_words.keys())[:1000] # more words slows down the training\n",
        "\n",
        "# example of results\n",
        "word_features[:15]"
      ],
      "metadata": {
        "colab": {
          "base_uri": "https://localhost:8080/"
        },
        "id": "bpr6CWg_tqg0",
        "outputId": "16242d3a-db56-4461-a701-8e38f58ba80c"
      },
      "execution_count": 3,
      "outputs": [
        {
          "output_type": "execute_result",
          "data": {
            "text/plain": [
              "['plot',\n",
              " ':',\n",
              " 'two',\n",
              " 'teen',\n",
              " 'couples',\n",
              " 'go',\n",
              " 'to',\n",
              " 'a',\n",
              " 'church',\n",
              " 'party',\n",
              " ',',\n",
              " 'drink',\n",
              " 'and',\n",
              " 'then',\n",
              " 'drive']"
            ]
          },
          "metadata": {},
          "execution_count": 3
        }
      ]
    },
    {
      "cell_type": "code",
      "source": [
        "# build list of words and their positive/negative classification from the reviews\n",
        "documents = [(list(movie_reviews.words(fileid)), category)\n",
        "             for category in movie_reviews.categories()\n",
        "             for fileid in movie_reviews.fileids(category)]\n",
        "\n",
        "# Create feature set/class for each review against list of top 1000 words\n",
        "# Extract words from document\n",
        "def doc_features(document): # [_document-classify-extractor]\n",
        "    doc_words = set(document) # [_document-classify-set]\n",
        "    features = {}\n",
        "    for word in word_features:\n",
        "        features['contains({})'.format(word)] = (word in doc_words)\n",
        "    return features\n",
        "\n",
        "featuresets = [(doc_features(d), c) for (d,c) in documents]\n",
        "\n",
        "# Split to create training and test data\n",
        "train_set = featuresets[100:]\n",
        "test_set = featuresets[:100]\n",
        "\n",
        "# Train using Naive Bayes classifier\n",
        "random.seed(4321)\n",
        "classifier = nltk.NaiveBayesClassifier.train(train_set)\n",
        "\n",
        "# 30 most imporant features\n",
        "classifier.show_most_informative_features(30)"
      ],
      "metadata": {
        "colab": {
          "base_uri": "https://localhost:8080/"
        },
        "id": "BZH9qaKEtumj",
        "outputId": "293fed74-a42b-4da6-dcdc-4f8434d37468"
      },
      "execution_count": 4,
      "outputs": [
        {
          "output_type": "stream",
          "name": "stdout",
          "text": [
            "Most Informative Features\n",
            "        contains(turkey) = True              neg : pos    =      6.5 : 1.0\n",
            "         contains(kudos) = True              pos : neg    =      5.9 : 1.0\n",
            "        contains(wasted) = True              neg : pos    =      5.6 : 1.0\n",
            "         contains(awful) = True              neg : pos    =      5.4 : 1.0\n",
            "        contains(poorly) = True              neg : pos    =      4.9 : 1.0\n",
            "       contains(bronson) = True              neg : pos    =      4.8 : 1.0\n",
            "         contains(bland) = True              neg : pos    =      4.2 : 1.0\n",
            "      contains(thrilled) = True              pos : neg    =      4.1 : 1.0\n",
            "       contains(runtime) = True              neg : pos    =      4.1 : 1.0\n",
            "     contains(underwood) = True              neg : pos    =      4.1 : 1.0\n",
            "     contains(stretched) = True              neg : pos    =      4.0 : 1.0\n",
            "     contains(anastasia) = True              pos : neg    =      3.9 : 1.0\n",
            "          contains(dull) = True              neg : pos    =      3.8 : 1.0\n",
            "       contains(jumbled) = True              neg : pos    =      3.8 : 1.0\n",
            "        contains(sexist) = True              neg : pos    =      3.8 : 1.0\n",
            "          contains(mess) = True              neg : pos    =      3.6 : 1.0\n",
            "     contains(considers) = True              pos : neg    =      3.5 : 1.0\n",
            "        contains(robots) = True              pos : neg    =      3.5 : 1.0\n",
            "     contains(memorable) = True              pos : neg    =      3.4 : 1.0\n",
            "        contains(stable) = True              pos : neg    =      3.4 : 1.0\n",
            "        contains(brooke) = True              neg : pos    =      3.3 : 1.0\n",
            "      contains(reformed) = True              neg : pos    =      3.3 : 1.0\n",
            "          contains(skip) = True              neg : pos    =      3.3 : 1.0\n",
            "       contains(implied) = True              pos : neg    =      3.3 : 1.0\n",
            "       contains(ponders) = True              pos : neg    =      3.3 : 1.0\n",
            "     contains(remembers) = True              pos : neg    =      3.3 : 1.0\n",
            "          contains(stan) = True              pos : neg    =      3.3 : 1.0\n",
            "         contains(ranks) = True              pos : neg    =      3.3 : 1.0\n",
            "   contains(potentially) = True              neg : pos    =      3.2 : 1.0\n",
            " contains(understanding) = True              pos : neg    =      3.0 : 1.0\n"
          ]
        }
      ]
    },
    {
      "cell_type": "markdown",
      "source": [
        "# Can you explain why these particular features are informative? Do you find any of them surprising?\n",
        "**Informative Features:**\n",
        "\n",
        "* Negative Sentiment:\n",
        "\n",
        ">* \"turkey,\" \"wasted,\" \"awful,\" \"poorly\": These directly express negative opinions about the movie's quality or experience.\n",
        "* \"bronson,\" \"dull,\" \"jumbled\": These describe specific aspects of the movie that might contribute to negative feelings, like a bad performance, lack of excitement, or confusing plot.\n",
        "* \"sexist,\" \"mess\": These address sensitive topics or chaotic storytelling, potentially leading to negative reactions.\n",
        "* \"runtime,\" \"underwood\": Mentioning runtime indicates potential concerns about movie length or specific actors/directors, while \"underwood\" might be associated with negative opinions about actors often associated with bad movies.\n",
        "\n",
        "* Positive Sentiment:\n",
        "\n",
        ">* \"kudos,\" \"thrilled,\" \"memorable\": These directly express positive appreciation for the movie.\n",
        "* \"robots,\" \"anastasia\": These might indicate specific genres or elements (e.g., sci-fi, animation) that resonate with certain viewers.\n",
        "* \"considers,\" \"remembers,\" \"ponders\": These suggest the movie evoked deeper thought and reflection, potentially leading to positive engagement.\n",
        "* \"stable,\" \"reformed\": These could describe character arcs or thematic elements that inspire positive feelings.\n",
        "\n",
        "**Surprising Features:**\n",
        "\n",
        ">* \"bland,\" \"stretched\": While negative, these might be subjective and depend on individual preferences for movie style or pacing.\n",
        "* \"brooke,\" \"stan\": These seem specific to certain actors or fandoms, potentially indicating niche reactions.\n",
        "* \"implied,\" \"ponders\": These are less explicit expressions of sentiment and might require further analysis to understand their true impact.\n",
        "\n",
        "**Overall, the informative features highlight words that convey strong opinions or evoke specific emotions related to the movie experience. Some surprises stem from subjectivity or niche references, requiring deeper context or investigation.**"
      ],
      "metadata": {
        "id": "QLchufbouHBm"
      }
    },
    {
      "cell_type": "code",
      "source": [],
      "metadata": {
        "id": "JtADyd9-wP0M"
      },
      "execution_count": null,
      "outputs": []
    }
  ]
}